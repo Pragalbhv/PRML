{
 "cells": [
  {
   "cell_type": "code",
   "execution_count": 3,
   "id": "8991d6a1",
   "metadata": {},
   "outputs": [
    {
     "name": "stdout",
     "output_type": "stream",
     "text": [
      "C:\\Users\\praga\\Downloads\\PRML\\Assign2\n"
     ]
    }
   ],
   "source": [
    "import numpy as np\n",
    "import math\n",
    "import pandas as pd\n",
    "import matplotlib.pyplot as plt\n",
    "%cd C:\\Users\\praga\\Downloads\\PRML\\Assign2\n",
    "datasetdf=pd.read_csv('A2Q1.csv',header=None)\n",
    "\n",
    "dataset=datasetdf.to_numpy()"
   ]
  },
  {
   "cell_type": "code",
   "execution_count": 4,
   "id": "280859e8",
   "metadata": {},
   "outputs": [],
   "source": [
    "def em_init(X,K=4):\n",
    "    means=X[np.random.choice(len(X),K,replace=False)]\n",
    "    K=4\n",
    "    probab=[[np.random.sample()] for i in range(K)]\n",
    "    probab=probab/np.sum(probab)\n",
    "    \n",
    "    return means,probab\n",
    "    "
   ]
  },
  {
   "cell_type": "code",
   "execution_count": 5,
   "id": "710ecf5a",
   "metadata": {},
   "outputs": [],
   "source": [
    "means,probab=em_init(dataset)"
   ]
  },
  {
   "cell_type": "code",
   "execution_count": 6,
   "id": "8fea74bb",
   "metadata": {},
   "outputs": [],
   "source": [
    "def Expectation(theta):\n",
    "    \n",
    "    means,probab=theta   \n",
    "    K=len(means)\n",
    "    lamdba=[[]for i in range(K)] \n",
    "    lamdbaa=[[]for i in range(K)] \n",
    "    denom=[[0.]for i in range(len(dataset))]\n",
    "    \n",
    "    for k in range(K):\n",
    "\n",
    "        lamdba[k]=means[k]*np.exp(-means[k]*dataset)*probab[k]\n",
    "        denom+=lamdba[k]\n",
    "    \n",
    "    for j in range(K):\n",
    "        if denom[j]==0:\n",
    "            lamdbaa[j]=0\n",
    "        else:            \n",
    "            lamdbaa[j]=lamdba[j]/denom\n",
    "    \n",
    "    \n",
    "        \n",
    "    return lamdbaa"
   ]
  },
  {
   "cell_type": "code",
   "execution_count": 7,
   "id": "f03a701b",
   "metadata": {},
   "outputs": [],
   "source": [
    "def Maximization(lamdba):\n",
    "    K=len(lamdba)\n",
    "    means=np.array([[np.sum(lamdba[i])/np.sum(lamdba[i]*dataset)] for i in range(K)])\n",
    "    probab=np.array([[np.sum(lamdba[i])/len(dataset)] for i in range(K)])\n",
    "    return means,probab\n",
    "    \n",
    "    \n",
    "    "
   ]
  },
  {
   "cell_type": "code",
   "execution_count": 8,
   "id": "f9ec89ce",
   "metadata": {},
   "outputs": [],
   "source": [
    "def convchk(theta1,theta0):\n",
    "    return np.linalg.norm(theta1[0]-theta0[0])+np.linalg.norm(theta1[1]-theta0[1])"
   ]
  },
  {
   "cell_type": "code",
   "execution_count": 9,
   "id": "9844bf8e",
   "metadata": {},
   "outputs": [],
   "source": [
    "def LogL(theta):\n",
    "    data=dataset\n",
    "    alpha,Pi=theta\n",
    "    \n",
    "    \n",
    "    LL = [np.log(np.sum([Pi[k]*alpha[k]*np.exp(-alpha[k]*data[i]) for k in range(4)])) for i in range(1000)]\n",
    "    return np.sum(LL)"
   ]
  },
  {
   "cell_type": "code",
   "execution_count": 10,
   "id": "e6262ed8",
   "metadata": {},
   "outputs": [],
   "source": [
    "def LogL(theta):\n",
    "    means,probab=theta \n",
    "    LL=[np.log(np.sum(\n",
    "        [\n",
    "            probab[k]*means[k]*np.exp(-means[k]*dataset[i]) \n",
    "         for k in range(4)])) \n",
    "     for i in range(len(dataset))]\n",
    "    \n",
    "    return np.sum(LL)\n",
    "    \n",
    "    "
   ]
  },
  {
   "cell_type": "code",
   "execution_count": 12,
   "id": "262e4834",
   "metadata": {},
   "outputs": [],
   "source": [
    "# theta_t=em_init(dataset,4)# initializing EM GMM\n",
    "# perform=[LogL(theta_t)]\n",
    "# nonconv=1\n",
    "# while nonconv:\n",
    "#     lamdba=Expectation(theta_t)\n",
    "#     theta_T=Maximization(lamdba)\n",
    "#     perform.append(LogL(theta_T))\n",
    "#     if convchk(theta_T,theta_t)<0.01:\n",
    "#         nonconv=0\n",
    "#     theta_t=theta_T\n",
    "    "
   ]
  },
  {
   "cell_type": "code",
   "execution_count": 18,
   "id": "bd24e9e8",
   "metadata": {},
   "outputs": [
    {
     "name": "stderr",
     "output_type": "stream",
     "text": [
      "100%|████████████████████████████████████████████████████████████████████████████████| 100/100 [04:02<00:00,  2.42s/it]\n"
     ]
    }
   ],
   "source": [
    "from tqdm import tqdm\n",
    "performset=[]\n",
    "for la in tqdm(range(100)):\n",
    "    theta_t=em_init(dataset,4)# initializing EM GMM\n",
    "    perform=[LogL(theta_t)]\n",
    "    nonconv=1\n",
    "    i=0\n",
    "    while nonconv and i<=150:\n",
    "        lamdba=Expectation(theta_t)\n",
    "        theta_T=Maximization(lamdba)\n",
    "        perform.append(LogL(theta_T))\n",
    "        if convchk(theta_T,theta_t)<0.001:\n",
    "            nonconv=0\n",
    "        i+=1\n",
    "        theta_t=theta_T\n",
    "    performset.append(perform)"
   ]
  },
  {
   "cell_type": "code",
   "execution_count": 19,
   "id": "4aecc2ee",
   "metadata": {},
   "outputs": [
    {
     "data": {
      "text/plain": [
       "38"
      ]
     },
     "execution_count": 19,
     "metadata": {},
     "output_type": "execute_result"
    }
   ],
   "source": [
    "min([len(k) for k in performset])"
   ]
  },
  {
   "cell_type": "code",
   "execution_count": 20,
   "id": "36a6bfaf",
   "metadata": {},
   "outputs": [],
   "source": [
    "graphic=np.array([0.0 for i in range(30)])\n",
    "for k in range(len(performset)):\n",
    "#     print(graphic.shape)\n",
    "#     print(np.shape(performset[k]))\n",
    "    graphic+=np.array(performset[k][:30])\n",
    "graphic=graphic/len(performset)"
   ]
  },
  {
   "cell_type": "code",
   "execution_count": 21,
   "id": "d5efd7d3",
   "metadata": {},
   "outputs": [
    {
     "data": {
      "image/png": "[encoded data removed]",
      "text/plain": [
       "<Figure size 432x288 with 1 Axes>"
      ]
     },
     "metadata": {
      "needs_background": "light"
     },
     "output_type": "display_data"
    }
   ],
   "source": [
    "plt.plot(graphic)\n",
    "plt.title('Log-Likelihood:- Exponential Mixture')\n",
    "plt.xlabel('Iterations:-> t')\n",
    "plt.ylabel(r'Log Likelihood')\n",
    "plt.show()\n"
   ]
  },
  {
   "cell_type": "code",
   "execution_count": 26,
   "id": "0a625628",
   "metadata": {},
   "outputs": [
    {
     "data": {
      "image/png": "[encoded data removed]",
      "text/plain": [
       "<Figure size 432x288 with 1 Axes>"
      ]
     },
     "metadata": {
      "needs_background": "light"
     },
     "output_type": "display_data"
    }
   ],
   "source": [
    "plt.plot(range(2,30),graphic[2:30])\n",
    "plt.title('Log-Likelihood:- Exponential Mixture')\n",
    "plt.xlabel('Iterations:-> t')\n",
    "plt.ylabel(r'Log Likelihood- Zoomed in')\n",
    "plt.show()\n"
   ]
  },
  {
   "cell_type": "code",
   "execution_count": 27,
   "id": "649d8b4c",
   "metadata": {},
   "outputs": [
    {
     "data": {
      "text/plain": [
       "-2560.434402326306"
      ]
     },
     "execution_count": 27,
     "metadata": {},
     "output_type": "execute_result"
    }
   ],
   "source": [
    "graphic[-1]"
   ]
  }
 ],
 "metadata": {
  "kernelspec": {
   "display_name": "Python 3 (ipykernel)",
   "language": "python",
   "name": "python3"
  },
  "language_info": {
   "codemirror_mode": {
    "name": "ipython",
    "version": 3
   },
   "file_extension": ".py",
   "mimetype": "text/x-python",
   "name": "python",
   "nbconvert_exporter": "python",
   "pygments_lexer": "ipython3",
   "version": "3.8.12"
  }
 },
 "nbformat": 4,
 "nbformat_minor": 5
}
