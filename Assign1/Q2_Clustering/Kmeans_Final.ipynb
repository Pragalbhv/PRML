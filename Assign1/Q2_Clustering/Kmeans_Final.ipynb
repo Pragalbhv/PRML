{
 "cells": [
  {
   "cell_type": "code",
   "execution_count": 1,
   "id": "f81092dc",
   "metadata": {},
   "outputs": [],
   "source": [
    "import matplotlib.pyplot as plt"
   ]
  },
  {
   "cell_type": "code",
   "execution_count": 3,
   "id": "721e44ec",
   "metadata": {},
   "outputs": [
    {
     "name": "stdout",
     "output_type": "stream",
     "text": [
      "C:\\Users\\praga\\Downloads\\PRML\\Assign1\n"
     ]
    }
   ],
   "source": [
    "import numpy as np\n",
    "import math\n",
    "\n",
    "import pandas as pd\n",
    "%cd C:\\Users\\praga\\Downloads\\PRML\\Assign1\n",
    "\n",
    "df=pd.read_csv('Dataset.csv',header = None)\n",
    "\n",
    "X=df.to_numpy()"
   ]
  },
  {
   "cell_type": "code",
   "execution_count": 4,
   "id": "d818fa56",
   "metadata": {},
   "outputs": [],
   "source": [
    "def Kmeans(X,K):\n",
    "    mus=np.random.choice(len(X),K,replace=False)\n",
    "    means=X[mus]\n",
    "    clustinds=np.array([0 for i in range(len(X))])\n",
    "    dist=np.array([[0.0 for j in range(len(means))] for i in range(len(X))])\n",
    "    errorfunc=[]\n",
    "    distmat=get_dist(means,X)\n",
    "    clustinds=np.argmin(distmat,axis=1)\n",
    "    loss=np.sum(np.min(distmat,axis=1))\n",
    "    errorfunc.append(loss)\n",
    "    noconv=1\n",
    "    while noconv:\n",
    "        loss=0\n",
    "        means=get_means(K,clustinds,X)#means step\n",
    "        distmat=get_dist(means,X)\n",
    "        clustinds=np.argmin(distmat,axis=1)\n",
    "        loss=np.sum(np.min(distmat,axis=1))\n",
    "        if loss==errorfunc[-1]:\n",
    "            noconv=0\n",
    "        errorfunc.append(loss)\n",
    "    return means, clustinds, errorfunc"
   ]
  },
  {
   "cell_type": "code",
   "execution_count": 5,
   "id": "6cb2adc4",
   "metadata": {},
   "outputs": [],
   "source": [
    "def get_means(K,clustind,X):#means step\n",
    "    means=np.zeros((K,2))\n",
    "    meanscount=np.zeros(K)\n",
    "    for i in range(len(X)):\n",
    "        means[clustind[i]]+=X[i]\n",
    "        meanscount[clustind[i]]+=1\n",
    "    for r in range(K):\n",
    "        means[r]=means[r]/meanscount[r]\n",
    "    return means\n",
    "    "
   ]
  },
  {
   "cell_type": "code",
   "execution_count": 6,
   "id": "a31060e5",
   "metadata": {},
   "outputs": [],
   "source": [
    "def get_dist(means,X):#calc dist\n",
    "    dist=np.array([[0.0 for j in range(len(means))] for i in range(len(X))])\n",
    "    for i in range(len(X)):\n",
    "        dist[i]=np.sum((X[i]-means)**2,axis=1)\n",
    "    return dist\n",
    "        \n",
    "    "
   ]
  },
  {
   "cell_type": "code",
   "execution_count": 7,
   "id": "e58c27e6",
   "metadata": {},
   "outputs": [],
   "source": [
    "def isdec(A):#to check monotonic, debug tool\n",
    "    for i in range(len(A)-1):\n",
    "        if A[i]<A[i+1]:\n",
    "            return A[i]\n",
    "    return True"
   ]
  },
  {
   "cell_type": "code",
   "execution_count": 8,
   "id": "1fffb305",
   "metadata": {},
   "outputs": [],
   "source": [
    "def plotter(Kres):\n",
    "    means=Kres[0]\n",
    "    K=len(means)\n",
    "    clusters=[[] for i in range(K)]\n",
    "    for t in range(len(X)):\n",
    "        clusters[Kres[1][t]].append(X[t])\n",
    "        \n",
    "    fig,ax=plt.subplots(1,2,figsize=(16,5))\n",
    "    \n",
    "    ax[0].scatter(np.array(clusters[0])[:,0],np.array(clusters[0])[:,1],marker='*',color='r')\n",
    "    ax[0].scatter(np.array(clusters[1])[:,0],np.array(clusters[1])[:,1],marker='*',color='g')\n",
    "    ax[0].scatter(np.array(clusters[2])[:,0],np.array(clusters[2])[:,1],marker='*',color='b')\n",
    "    ax[0].scatter(np.array(clusters[3])[:,0],np.array(clusters[3])[:,1],marker='*',color='y')\n",
    "    ax[0].scatter(means[:,0],means[:,1],marker='D',color='black')\n",
    "    ax[0].title.set_text('Kmeans-4')\n",
    "    ax[0].set(xlabel='X: 1st component ->', ylabel='X: 2nd component ->')\n",
    "    ax[0].legend(['Cluster1','Cluster2','Cluster3','Cluster4',\"means\"])\n",
    "    ax[1].plot(Kres[-1])\n",
    "    ax[1].set(xlabel=\"Iterations\", ylabel=\"Error\")\n",
    "    ax[1].title.set_text(\"Error Function\")\n",
    "    \n",
    "        \n",
    "        "
   ]
  },
  {
   "cell_type": "code",
   "execution_count": null,
   "id": "815e5c32",
   "metadata": {},
   "outputs": [],
   "source": [
    "plotter(a)"
   ]
  }
 ],
 "metadata": {
  "kernelspec": {
   "display_name": "Python 3 (ipykernel)",
   "language": "python",
   "name": "python3"
  },
  "language_info": {
   "codemirror_mode": {
    "name": "ipython",
    "version": 3
   },
   "file_extension": ".py",
   "mimetype": "text/x-python",
   "name": "python",
   "nbconvert_exporter": "python",
   "pygments_lexer": "ipython3",
   "version": "3.8.12"
  }
 },
 "nbformat": 4,
 "nbformat_minor": 5
}
