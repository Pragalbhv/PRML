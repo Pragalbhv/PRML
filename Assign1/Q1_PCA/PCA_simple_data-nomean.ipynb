{
 "cells": [
  {
   "cell_type": "code",
   "execution_count": 1,
   "id": "77fcc4b0",
   "metadata": {},
   "outputs": [],
   "source": [
    "import numpy as np"
   ]
  },
  {
   "cell_type": "code",
   "execution_count": 2,
   "id": "e7fccb1a",
   "metadata": {},
   "outputs": [],
   "source": [
    "import pandas as pd"
   ]
  },
  {
   "cell_type": "code",
   "execution_count": 3,
   "id": "b0389ed4",
   "metadata": {},
   "outputs": [
    {
     "name": "stdout",
     "output_type": "stream",
     "text": [
      "C:\\Users\\praga\\Downloads\\PRML\\Assign1\n"
     ]
    }
   ],
   "source": [
    "%cd C:\\Users\\praga\\Downloads\\PRML\\Assign1\n",
    "df=pd.read_csv('Dataset.csv',header = None)"
   ]
  },
  {
   "cell_type": "code",
   "execution_count": 4,
   "id": "8550d17f",
   "metadata": {},
   "outputs": [],
   "source": [
    "X=df.to_numpy()"
   ]
  },
  {
   "cell_type": "code",
   "execution_count": 5,
   "id": "5445ad90",
   "metadata": {},
   "outputs": [],
   "source": [
    "X=X.T"
   ]
  },
  {
   "cell_type": "code",
   "execution_count": 6,
   "id": "4b9a375e",
   "metadata": {},
   "outputs": [],
   "source": [
    "def PCA_eigen(X):#without centring\n",
    "    X=np.array(X)\n",
    "    mu=np.mean(X,axis=1)\n",
    "    means=np.array([mu for i in range(np.shape(X)[1])])\n",
    "    Xd=X\n",
    "    corr= np.matmul(Xd,Xd.T)\n",
    "    corr=corr/np.shape(X[1])\n",
    "    \n",
    "    #_________________\n",
    "    eigenValues, eigenVectors = np.linalg.eigh(corr)#gives eigen in ascending and normalized vectors\n",
    "    idx = eigenValues.argsort()[::-1]   \n",
    "    eigenValues = eigenValues[idx]\n",
    "    eigenVectors = eigenVectors[:,idx]\n",
    "    #_________________\n",
    "    \n",
    "    return eigenValues,eigenVectors,Xd"
   ]
  },
  {
   "cell_type": "code",
   "execution_count": 7,
   "id": "c79a4f99",
   "metadata": {},
   "outputs": [],
   "source": [
    "eig=PCA_eigen(X)"
   ]
  },
  {
   "cell_type": "code",
   "execution_count": 8,
   "id": "8c420d8b",
   "metadata": {},
   "outputs": [
    {
     "data": {
      "text/plain": [
       "array([4.075e-07, 2.227e-07])"
      ]
     },
     "execution_count": 8,
     "metadata": {},
     "output_type": "execute_result"
    }
   ],
   "source": [
    "np.mean(X,axis=1)#means"
   ]
  },
  {
   "cell_type": "code",
   "execution_count": 9,
   "id": "7a20c0e0",
   "metadata": {},
   "outputs": [
    {
     "data": {
      "image/png": "[encoded data removed]",
      "text/plain": [
       "<Figure size 432x288 with 1 Axes>"
      ]
     },
     "metadata": {
      "needs_background": "light"
     },
     "output_type": "display_data"
    }
   ],
   "source": [
    "import matplotlib.pyplot as plt\n",
    "Xd=eig[2]\n",
    "xm,ym=np.mean(X,axis=1)\n",
    "plt.scatter(X[0],X[1])\n",
    "# plt.scatter(Xd[0],Xd[1])\n",
    "\n",
    "plt.axhline(y=0, color='k')\n",
    "plt.axvline(x=0, color='k')\n",
    "plt.axvline(x=xm, color='r')\n",
    "plt.axhline(y=ym, color='r')\n",
    "plt.xlabel('X: component 1')\n",
    "plt.ylabel('X: component 2')\n",
    "plt.grid(True)\n",
    "plt.show()"
   ]
  },
  {
   "cell_type": "code",
   "execution_count": 10,
   "id": "67dc1aa0",
   "metadata": {},
   "outputs": [
    {
     "data": {
      "text/plain": [
       "(array([17.1319144 , 14.48960475]),\n",
       " array([[ 0.323516 , -0.9462227],\n",
       "        [ 0.9462227,  0.323516 ]]),\n",
       " array([[ 0.143  , -0.30467,  0.46625, ...,  6.1062 , -7.4094 , -0.12948],\n",
       "        [ 0.98493,  0.98562, -0.84003, ..., -5.9864 , -5.5205 , -8.8036 ]]))"
      ]
     },
     "execution_count": 10,
     "metadata": {},
     "output_type": "execute_result"
    }
   ],
   "source": [
    "eig#same eig values and eig vectors"
   ]
  },
  {
   "cell_type": "code",
   "execution_count": 11,
   "id": "fcb29138",
   "metadata": {},
   "outputs": [
    {
     "data": {
      "text/plain": [
       "array([0.323516 , 0.9462227])"
      ]
     },
     "execution_count": 11,
     "metadata": {},
     "output_type": "execute_result"
    }
   ],
   "source": [
    "eig[1][:,0]"
   ]
  },
  {
   "cell_type": "code",
   "execution_count": 12,
   "id": "9734528f",
   "metadata": {},
   "outputs": [
    {
     "data": {
      "text/plain": [
       "array([-0.9462227,  0.323516 ])"
      ]
     },
     "execution_count": 12,
     "metadata": {},
     "output_type": "execute_result"
    }
   ],
   "source": [
    "eig[1][:,1]"
   ]
  },
  {
   "cell_type": "code",
   "execution_count": 13,
   "id": "1155d020",
   "metadata": {},
   "outputs": [],
   "source": [
    "a=np.matmul(eig[1][:,0],eig[2])\n",
    "b=np.matmul(eig[1][:,1],eig[2])"
   ]
  },
  {
   "cell_type": "code",
   "execution_count": 14,
   "id": "436467b4",
   "metadata": {},
   "outputs": [
    {
     "data": {
      "text/plain": [
       "17.131914402444483"
      ]
     },
     "execution_count": 14,
     "metadata": {},
     "output_type": "execute_result"
    }
   ],
   "source": [
    "np.mean(np.square(a))"
   ]
  },
  {
   "cell_type": "code",
   "execution_count": 15,
   "id": "9ee44290",
   "metadata": {},
   "outputs": [
    {
     "data": {
      "text/plain": [
       "14.489604749330736"
      ]
     },
     "execution_count": 15,
     "metadata": {},
     "output_type": "execute_result"
    }
   ],
   "source": [
    "np.mean(np.square(b))"
   ]
  }
 ],
 "metadata": {
  "kernelspec": {
   "display_name": "Python 3 (ipykernel)",
   "language": "python",
   "name": "python3"
  },
  "language_info": {
   "codemirror_mode": {
    "name": "ipython",
    "version": 3
   },
   "file_extension": ".py",
   "mimetype": "text/x-python",
   "name": "python",
   "nbconvert_exporter": "python",
   "pygments_lexer": "ipython3",
   "version": "3.8.12"
  }
 },
 "nbformat": 4,
 "nbformat_minor": 5
}
