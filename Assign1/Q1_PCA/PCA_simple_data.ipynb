{
 "cells": [
  {
   "cell_type": "code",
   "execution_count": 1,
   "id": "77fcc4b0",
   "metadata": {},
   "outputs": [],
   "source": [
    "import numpy as np"
   ]
  },
  {
   "cell_type": "code",
   "execution_count": 2,
   "id": "e7fccb1a",
   "metadata": {},
   "outputs": [],
   "source": [
    "import pandas as pd"
   ]
  },
  {
   "cell_type": "code",
   "execution_count": 3,
   "id": "b0389ed4",
   "metadata": {},
   "outputs": [
    {
     "name": "stdout",
     "output_type": "stream",
     "text": [
      "C:\\Users\\praga\\Downloads\\PRML\\Assign1\n"
     ]
    }
   ],
   "source": [
    "%cd C:\\Users\\praga\\Downloads\\PRML\\Assign1\n",
    "df=pd.read_csv('Dataset.csv',header = None)"
   ]
  },
  {
   "cell_type": "code",
   "execution_count": 4,
   "id": "8550d17f",
   "metadata": {},
   "outputs": [],
   "source": [
    "X=df.to_numpy()"
   ]
  },
  {
   "cell_type": "code",
   "execution_count": 5,
   "id": "5445ad90",
   "metadata": {},
   "outputs": [],
   "source": [
    "X=X.T#Taking transpose to get in dxn form"
   ]
  },
  {
   "cell_type": "code",
   "execution_count": 6,
   "id": "4b9a375e",
   "metadata": {},
   "outputs": [],
   "source": [
    "def PCA_eigen(X):#takes data, returns eigenvals and eigenvecs\n",
    "    X=np.array(X)\n",
    "    mu=np.mean(X,axis=1)\n",
    "    means=np.array([mu for i in range(np.shape(X)[1])])\n",
    "    Xd=X-means.T\n",
    "    corr= np.matmul(Xd,Xd.T)\n",
    "    corr=corr/np.shape(X[1])\n",
    "    \n",
    "    #_________________\n",
    "    evals, evecs = np.linalg.eigh(corr)#gives eigen in ascending and normalized vectors\n",
    "    idx = evals.argsort()[::-1]  #argsort just incase \n",
    "    evals = evals[idx]\n",
    "    evecs = evecs[:,idx]\n",
    "    #_________________\n",
    "    \n",
    "    return evals,evecs,Xd"
   ]
  },
  {
   "cell_type": "code",
   "execution_count": 7,
   "id": "c79a4f99",
   "metadata": {},
   "outputs": [],
   "source": [
    "eig=PCA_eigen(X)"
   ]
  },
  {
   "cell_type": "code",
   "execution_count": 8,
   "id": "67dc1aa0",
   "metadata": {},
   "outputs": [
    {
     "data": {
      "text/plain": [
       "(array([17.1319144 , 14.48960475]),\n",
       " array([[ 0.323516 , -0.9462227],\n",
       "        [ 0.9462227,  0.323516 ]]),\n",
       " array([[ 0.14299959, -0.30467041,  0.46624959, ...,  6.10619959,\n",
       "         -7.40940041, -0.12948041],\n",
       "        [ 0.98492978,  0.98561978, -0.84003022, ..., -5.98640022,\n",
       "         -5.52050022, -8.80360022]]))"
      ]
     },
     "execution_count": 8,
     "metadata": {},
     "output_type": "execute_result"
    }
   ],
   "source": [
    "eig#eigenvals, eigenvecs, X centred"
   ]
  },
  {
   "cell_type": "code",
   "execution_count": 9,
   "id": "fcb29138",
   "metadata": {},
   "outputs": [
    {
     "data": {
      "text/plain": [
       "array([0.323516 , 0.9462227])"
      ]
     },
     "execution_count": 9,
     "metadata": {},
     "output_type": "execute_result"
    }
   ],
   "source": [
    "eig[1][:,0]#first evec"
   ]
  },
  {
   "cell_type": "code",
   "execution_count": 10,
   "id": "9734528f",
   "metadata": {},
   "outputs": [
    {
     "data": {
      "text/plain": [
       "array([-0.9462227,  0.323516 ])"
      ]
     },
     "execution_count": 10,
     "metadata": {},
     "output_type": "execute_result"
    }
   ],
   "source": [
    "eig[1][:,1]#second evec"
   ]
  },
  {
   "cell_type": "code",
   "execution_count": 11,
   "id": "1155d020",
   "metadata": {},
   "outputs": [],
   "source": [
    "a=np.matmul(eig[1][:,0],eig[2])\n",
    "b=np.matmul(eig[1][:,1],eig[2])#to show eval= variance contribution"
   ]
  },
  {
   "cell_type": "code",
   "execution_count": 12,
   "id": "436467b4",
   "metadata": {},
   "outputs": [
    {
     "data": {
      "text/plain": [
       "17.13191440244437"
      ]
     },
     "execution_count": 12,
     "metadata": {},
     "output_type": "execute_result"
    }
   ],
   "source": [
    "np.mean(np.square(a))"
   ]
  },
  {
   "cell_type": "code",
   "execution_count": 13,
   "id": "9ee44290",
   "metadata": {},
   "outputs": [
    {
     "data": {
      "text/plain": [
       "14.489604749330642"
      ]
     },
     "execution_count": 13,
     "metadata": {},
     "output_type": "execute_result"
    }
   ],
   "source": [
    "np.mean(np.square(b))"
   ]
  },
  {
   "cell_type": "code",
   "execution_count": 14,
   "id": "74983c54",
   "metadata": {},
   "outputs": [],
   "source": [
    "import matplotlib.pyplot as plt"
   ]
  },
  {
   "cell_type": "code",
   "execution_count": 15,
   "id": "b0301842",
   "metadata": {},
   "outputs": [
    {
     "data": {
      "text/plain": [
       "(2, 1000)"
      ]
     },
     "execution_count": 15,
     "metadata": {},
     "output_type": "execute_result"
    }
   ],
   "source": [
    "X.shape"
   ]
  },
  {
   "cell_type": "code",
   "execution_count": 16,
   "id": "af91f968",
   "metadata": {},
   "outputs": [
    {
     "data": {
      "image/png": "[encoded data removed]",
      "text/plain": [
       "<Figure size 432x288 with 1 Axes>"
      ]
     },
     "metadata": {
      "needs_background": "light"
     },
     "output_type": "display_data"
    }
   ],
   "source": [
    "Xd=eig[2]#plotting graphs\n",
    "xm,ym=np.mean(X,axis=1)\n",
    "plt.scatter(X[0],X[1])\n",
    "# plt.scatter(Xd[0],Xd[1])\n",
    "\n",
    "\n",
    "plt.axvline(x=xm, color='r')\n",
    "plt.axhline(y=ym, color='r')\n",
    "# plt.axhline(y=0, color='k')\n",
    "# plt.axvline(x=0, color='k')\n",
    "plt.xlabel('X: component 1')\n",
    "plt.ylabel('X: component 2')\n",
    "plt.grid(True)\n",
    "plt.legend(['Data'])\n",
    "plt.show()\n"
   ]
  },
  {
   "cell_type": "code",
   "execution_count": 32,
   "id": "c3e83af0",
   "metadata": {},
   "outputs": [
    {
     "data": {
      "image/png": "[encoded data removed]",
      "text/plain": [
       "<Figure size 432x288 with 1 Axes>"
      ]
     },
     "metadata": {
      "needs_background": "light"
     },
     "output_type": "display_data"
    }
   ],
   "source": [
    "#plotting graphs of PCA with and without mean\n",
    "\n",
    "plt.scatter(xm,ym,s=80)\n",
    "w1=eig[1][:,0]/1000000\n",
    "w2=eig[1][:,1]/1000000\n",
    "\n",
    "plt.plot([0,w1[0]],[0,w1[1]])\n",
    "plt.plot([0,w2[0]],[0,w2[1]])\n",
    "plt.scatter([0],[0],c='r',s=80)\n",
    "\n",
    "plt.axhline(y=0, color='k')\n",
    "plt.axvline(x=0, color='k')\n",
    "\n",
    "plt.xlabel('X: component 1')\n",
    "plt.ylabel('X: component 2')\n",
    "plt.legend([\"Mean\",\"PCA 1\",\"PCA 2\", \"Centered Mean\"])\n",
    "plt.title('PCA:- PCs and Mean')\n",
    "plt.grid(True)\n",
    "plt.show()"
   ]
  }
 ],
 "metadata": {
  "kernelspec": {
   "display_name": "Python 3 (ipykernel)",
   "language": "python",
   "name": "python3"
  },
  "language_info": {
   "codemirror_mode": {
    "name": "ipython",
    "version": 3
   },
   "file_extension": ".py",
   "mimetype": "text/x-python",
   "name": "python",
   "nbconvert_exporter": "python",
   "pygments_lexer": "ipython3",
   "version": "3.8.12"
  }
 },
 "nbformat": 4,
 "nbformat_minor": 5
}
